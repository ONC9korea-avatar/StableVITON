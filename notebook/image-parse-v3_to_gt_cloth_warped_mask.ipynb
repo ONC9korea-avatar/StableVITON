{
 "cells": [
  {
   "cell_type": "code",
   "execution_count": 1,
   "metadata": {},
   "outputs": [],
   "source": [
    "from PIL import Image\n",
    "import numpy as np\n",
    "\n",
    "import matplotlib.pyplot as plt\n",
    "\n",
    "import os\n",
    "import os.path as osp\n",
    "from tqdm import tqdm"
   ]
  },
  {
   "cell_type": "code",
   "execution_count": 2,
   "metadata": {},
   "outputs": [],
   "source": [
    "image_parse_v3_path = '../DATA/VITON-HD/train/image-parse-v3'\n",
    "parse_images = sorted(os.listdir(image_parse_v3_path))"
   ]
  },
  {
   "cell_type": "code",
   "execution_count": 6,
   "metadata": {},
   "outputs": [
    {
     "name": "stderr",
     "output_type": "stream",
     "text": [
      "100%|██████████| 11647/11647 [00:44<00:00, 260.02it/s]\n"
     ]
    }
   ],
   "source": [
    "save_path = '../DATA/VITON-HD/train/gt_cloth_warped_mask'\n",
    "os.makedirs(save_path, exist_ok=True)\n",
    "\n",
    "for f in tqdm(parse_images):\n",
    "    p = Image.open(osp.join(image_parse_v3_path, f))\n",
    "    p_arr = np.array(p)\n",
    "\n",
    "    mask = ((p_arr == 5) | (p_arr == 6) | (p_arr == 7) | (p_arr==10)).astype(np.uint8) * 255 # LIP label, 5: upper-cloth, 6: dress, 7: coat, 10: jumpsuit\n",
    "    if not mask.any():\n",
    "        raise ValueError(f'mask of {f} is all zero')\n",
    "    mask_image = Image.fromarray(mask, mode='L')\n",
    "\n",
    "    mask_image.save(osp.join(save_path, f))"
   ]
  }
 ],
 "metadata": {
  "kernelspec": {
   "display_name": "StableVITON",
   "language": "python",
   "name": "python3"
  },
  "language_info": {
   "codemirror_mode": {
    "name": "ipython",
    "version": 3
   },
   "file_extension": ".py",
   "mimetype": "text/x-python",
   "name": "python",
   "nbconvert_exporter": "python",
   "pygments_lexer": "ipython3",
   "version": "3.10.13"
  }
 },
 "nbformat": 4,
 "nbformat_minor": 2
}
